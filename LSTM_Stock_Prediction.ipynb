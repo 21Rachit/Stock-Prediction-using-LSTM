{
 "cells": [
  {
   "cell_type": "markdown",
   "metadata": {},
   "source": [
    "## Stock Prediction using LSTM (Long Short Term Memory)"
   ]
  },
  {
   "cell_type": "code",
   "execution_count": 2,
   "metadata": {},
   "outputs": [
    {
     "name": "stderr",
     "output_type": "stream",
     "text": [
      "Using TensorFlow backend.\n"
     ]
    }
   ],
   "source": [
    "import numpy as np\n",
    "import matplotlib.pyplot as plt\n",
    "import pandas as pd\n",
    "from pandas import read_csv\n",
    "import math\n",
    "from keras.models import Sequential # Using the keras model to form the LSTM architecture \n",
    "from keras.layers import Dense\n",
    "from keras.layers import LSTM\n",
    "from sklearn.preprocessing import MinMaxScaler # for normalizing the values so that training becomes faster and more efficient\n",
    "from sklearn.metrics import mean_squared_error # to check the predicted output with the actual output\n",
    "from keras.layers.core import Dense, Activation, Dropout\n",
    "import time #helper libraries\n",
    "input_file=r\"C:\\Users\\RACHIT\\Desktop\\Computer_Vision\\LSTM\\LSTM_RNN_Tutorials_with_Demo-master\\StockPricesPredictionProject\\DIS.csv\""
   ]
  },
  {
   "cell_type": "markdown",
   "metadata": {},
   "source": [
    "## Reading the Stock Price datasheet containing 7 columns(open price,close price,Turnover etc) but since we are doing sequence prediction so we only need close price (column 5)"
   ]
  },
  {
   "cell_type": "code",
   "execution_count": 3,
   "metadata": {},
   "outputs": [
    {
     "name": "stdout",
     "output_type": "stream",
     "text": [
      "            0          1          2          3          4          5        6\n",
      "0  1996-12-31  23.011177  23.175543  22.805719  22.928993  17.804647  2719200\n",
      "1  1997-01-02  22.928993  22.970085  21.942801  22.148258  17.198397  8115400\n",
      "2  1997-01-03  22.394806  22.805719  22.394806  22.764629  17.677013  4650000\n",
      "3  1997-01-06  22.764629  22.928993  22.559172  22.682446  17.613201  3623300\n",
      "4  1997-01-07  22.682446  22.682446  22.435898  22.641354  17.581289  3606200\n",
      "[17.804647 17.198397 17.677013 17.613201 17.581289]\n",
      "[[17.804647]\n",
      " [17.198397]\n",
      " [17.677013]\n",
      " [17.613201]\n",
      " [17.581289]]\n"
     ]
    }
   ],
   "source": [
    "df=pd.read_csv(r\"C:\\Users\\RACHIT\\Desktop\\Computer_Vision\\LSTM\\LSTM_RNN_Tutorials_with_Demo-master\\StockPricesPredictionProject\\DIS.csv\",header=None,index_col=None, delimiter=',')\n",
    "print(df.head())\n",
    "df=df[0:1500]\n",
    "all_y = df[5].values\n",
    "print(all_y[0:5]) # We need only the close price column for our project\n",
    "dataset=all_y.reshape(-1, 1) # Reshaping it to 1 column and its corresponding number of rows\n",
    "print(dataset[0:5])"
   ]
  },
  {
   "cell_type": "markdown",
   "metadata": {},
   "source": [
    "## Normalizing the close price column values using MinMaxScaler  function for smooth and faster training of the LSTM model"
   ]
  },
  {
   "cell_type": "code",
   "execution_count": 194,
   "metadata": {},
   "outputs": [
    {
     "data": {
      "text/plain": [
       "array([[0.29365841],\n",
       "       [0.2675478 ],\n",
       "       [0.28816134],\n",
       "       [0.28541302],\n",
       "       [0.2840386 ],\n",
       "       [0.27423841],\n",
       "       [0.27010908],\n",
       "       [0.27423841],\n",
       "       [0.27561477],\n",
       "       [0.28937938]])"
      ]
     },
     "execution_count": 194,
     "metadata": {},
     "output_type": "execute_result"
    }
   ],
   "source": [
    "scaler = MinMaxScaler(feature_range=(0, 1))\n",
    "dataset = scaler.fit_transform(dataset)\n",
    "dataset[0:10]"
   ]
  },
  {
   "cell_type": "markdown",
   "metadata": {},
   "source": [
    "## Splitting the dataset into training and testing set (50% training and 50% testing set)"
   ]
  },
  {
   "cell_type": "code",
   "execution_count": 15,
   "metadata": {},
   "outputs": [
    {
     "data": {
      "text/plain": [
       "array([[17.804647],\n",
       "       [17.198397],\n",
       "       [17.677013],\n",
       "       [17.613201],\n",
       "       [17.581289]])"
      ]
     },
     "execution_count": 15,
     "metadata": {},
     "output_type": "execute_result"
    }
   ],
   "source": [
    "train_size = int(len(dataset) * 0.5)\n",
    "test_size = len(dataset) - train_size\n",
    "train, test = dataset[0:train_size,:], dataset[train_size:len(dataset),:]\n",
    "train[0:5]"
   ]
  },
  {
   "cell_type": "markdown",
   "metadata": {},
   "source": [
    "## For LSTM , suppose there are n values in column so first n-1 values will go in the training set and the n(th) value will go in the testing set. Actually it depends upon the sliding window(in this case loop_back variable) , how much value we should keep in the training set out of n values"
   ]
  },
  {
   "cell_type": "code",
   "execution_count": 16,
   "metadata": {},
   "outputs": [],
   "source": [
    "def create_dataset(dataset, look_back=1):\n",
    "    dataX, dataY = [], []\n",
    "    for i in range(len(dataset)-look_back-1):\n",
    "        a = dataset[i:(i+look_back), 0]\n",
    "        dataX.append(a)\n",
    "        dataY.append(dataset[i + look_back, 0])\n",
    "    return np.array(dataX), np.array(dataY)"
   ]
  },
  {
   "cell_type": "code",
   "execution_count": 17,
   "metadata": {},
   "outputs": [
    {
     "name": "stdout",
     "output_type": "stream",
     "text": [
      "(744, 5)\n",
      "(744,)\n",
      "Training input value\n",
      "[[17.804647 17.198397 17.677013 17.613201 17.581289]\n",
      " [17.198397 17.677013 17.613201 17.581289 17.353743]\n",
      " [17.677013 17.613201 17.581289 17.353743 17.257866]]\n",
      "Training output value\n",
      "[17.353743 17.257866 17.353743]\n"
     ]
    }
   ],
   "source": [
    "look_back = 5\n",
    "trainX, trainY = create_dataset(train, look_back)\n",
    "testX, testY = create_dataset(test, look_back)\n",
    "print(trainX.shape)\n",
    "print(trainY.shape)\n",
    "print('Training input value')\n",
    "print(trainX[0:3])\n",
    "print('Training output value')\n",
    "print(trainY[0:3])"
   ]
  },
  {
   "cell_type": "code",
   "execution_count": 18,
   "metadata": {},
   "outputs": [
    {
     "name": "stdout",
     "output_type": "stream",
     "text": [
      "(744, 5)\n"
     ]
    },
    {
     "data": {
      "text/plain": [
       "array([[17.804647, 17.198397, 17.677013, 17.613201, 17.581289],\n",
       "       [17.198397, 17.677013, 17.613201, 17.581289, 17.353743]])"
      ]
     },
     "execution_count": 18,
     "metadata": {},
     "output_type": "execute_result"
    }
   ],
   "source": [
    "print(trainX.shape)\n",
    "trainX[0:2]"
   ]
  },
  {
   "cell_type": "markdown",
   "metadata": {},
   "source": [
    "## One of the unique property of LSTM model is that it takes 3 parameters as input. The parameters are batch size, time-steps and features.\n",
    "## An example to explain the above parameters fitting is suppose you have 10 videos of 20 seconds each and each video has 15 frames each of 24*24 pixels.\n",
    "## So batch-size is 20, timesteps is 15 and features is (24*24)"
   ]
  },
  {
   "cell_type": "code",
   "execution_count": 19,
   "metadata": {},
   "outputs": [
    {
     "name": "stdout",
     "output_type": "stream",
     "text": [
      "(744, 1, 5)\n"
     ]
    },
    {
     "data": {
      "text/plain": [
       "array([[[17.804647, 17.198397, 17.677013, 17.613201, 17.581289]],\n",
       "\n",
       "       [[17.198397, 17.677013, 17.613201, 17.581289, 17.353743]]])"
      ]
     },
     "execution_count": 19,
     "metadata": {},
     "output_type": "execute_result"
    }
   ],
   "source": [
    "\n",
    "trainX = np.reshape(trainX, (trainX.shape[0], 1, trainX.shape[1]))\n",
    "testX = np.reshape(testX, (testX.shape[0], 1, testX.shape[1]))\n",
    "print(trainX.shape)\n",
    "trainX[0:2]"
   ]
  },
  {
   "cell_type": "markdown",
   "metadata": {},
   "source": [
    "## Creating the neural network for training our model. \n",
    "### So first we have the LSTM model with 25 neurons in the layer\n",
    "### Then we introduced Dropout layer to avoid overfitting\n",
    "### Then we have the final output layer of 1 neuron to predict the next close price value\n",
    "### The loss function used is mean squared error and optimizer is adam optimizer\n",
    "### Finally fitting the model with batch size of 240 and epoch value 20. Verbose parameter tells the log activity of the model"
   ]
  },
  {
   "cell_type": "code",
   "execution_count": 201,
   "metadata": {},
   "outputs": [
    {
     "name": "stdout",
     "output_type": "stream",
     "text": [
      "Epoch 1/20\n",
      "744/744 [==============================] - 1s 2ms/step - loss: 0.2384\n",
      "Epoch 2/20\n",
      "744/744 [==============================] - 0s 13us/step - loss: 0.2088\n",
      "Epoch 3/20\n",
      "744/744 [==============================] - 0s 18us/step - loss: 0.1814\n",
      "Epoch 4/20\n",
      "744/744 [==============================] - 0s 15us/step - loss: 0.1586\n",
      "Epoch 5/20\n",
      "744/744 [==============================] - 0s 17us/step - loss: 0.1355\n",
      "Epoch 6/20\n",
      "744/744 [==============================] - 0s 14us/step - loss: 0.1136\n",
      "Epoch 7/20\n",
      "744/744 [==============================] - 0s 20us/step - loss: 0.0944\n",
      "Epoch 8/20\n",
      "744/744 [==============================] - 0s 20us/step - loss: 0.0785\n",
      "Epoch 9/20\n",
      "744/744 [==============================] - 0s 15us/step - loss: 0.0637\n",
      "Epoch 10/20\n",
      "744/744 [==============================] - 0s 18us/step - loss: 0.0503\n",
      "Epoch 11/20\n",
      "744/744 [==============================] - 0s 19us/step - loss: 0.0396\n",
      "Epoch 12/20\n",
      "744/744 [==============================] - 0s 15us/step - loss: 0.0314\n",
      "Epoch 13/20\n",
      "744/744 [==============================] - 0s 18us/step - loss: 0.0229\n",
      "Epoch 14/20\n",
      "744/744 [==============================] - 0s 20us/step - loss: 0.0172\n",
      "Epoch 15/20\n",
      "744/744 [==============================] - 0s 18us/step - loss: 0.0126\n",
      "Epoch 16/20\n",
      "744/744 [==============================] - 0s 16us/step - loss: 0.0094\n",
      "Epoch 17/20\n",
      "744/744 [==============================] - 0s 18us/step - loss: 0.0069\n",
      "Epoch 18/20\n",
      "744/744 [==============================] - 0s 17us/step - loss: 0.0055\n",
      "Epoch 19/20\n",
      "744/744 [==============================] - 0s 18us/step - loss: 0.0054\n",
      "Epoch 20/20\n",
      "744/744 [==============================] - 0s 20us/step - loss: 0.0048\n"
     ]
    }
   ],
   "source": [
    "model = Sequential()\n",
    "model.add(LSTM(25, input_shape=(1, look_back)))\n",
    "model.add(Dropout(0.1))\n",
    "model.add(Dense(1))\n",
    "model.compile(loss='mse', optimizer='adam')\n",
    "history=model.fit(trainX, trainY, epochs=20, batch_size=240, verbose=1)"
   ]
  },
  {
   "cell_type": "markdown",
   "metadata": {},
   "source": [
    "## Plotting the predicted values in red color and the actual values in blue color"
   ]
  },
  {
   "cell_type": "code",
   "execution_count": 202,
   "metadata": {},
   "outputs": [
    {
     "data": {
      "text/plain": [
       "<matplotlib.collections.PathCollection at 0x295de82fd0>"
      ]
     },
     "execution_count": 202,
     "metadata": {},
     "output_type": "execute_result"
    },
    {
     "data": {
      "image/png": "[encoded data removed]",
      "text/plain": [
       "<Figure size 432x288 with 1 Axes>"
      ]
     },
     "metadata": {},
     "output_type": "display_data"
    }
   ],
   "source": [
    "trainPredict = model.predict(trainX)\n",
    "testPredict = model.predict(testX)\n",
    "plt.scatter(range(0,744),trainPredict,c='r')\n",
    "plt.scatter(range(744),trainY,c='b')"
   ]
  },
  {
   "cell_type": "markdown",
   "metadata": {},
   "source": [
    "## Now lets check for an arbitrary input test value , so in the testing variable I have input the testing value and the model gives the correspoding predicted value"
   ]
  },
  {
   "cell_type": "code",
   "execution_count": 203,
   "metadata": {},
   "outputs": [
    {
     "data": {
      "text/plain": [
       "array([[0.3480485]], dtype=float32)"
      ]
     },
     "execution_count": 203,
     "metadata": {},
     "output_type": "execute_result"
    }
   ],
   "source": [
    "testing=[0.29365841, 0.2675478 , 0.28816134, 0.28541302, 0.2840386]\n",
    "j=np.reshape(testing,(1,1,5))\n",
    "model.predict(j)"
   ]
  },
  {
   "cell_type": "code",
   "execution_count": 204,
   "metadata": {},
   "outputs": [],
   "source": [
    "trainPredict = scaler.inverse_transform(trainPredict)\n",
    "trainY = scaler.inverse_transform([trainY])"
   ]
  },
  {
   "cell_type": "code",
   "execution_count": 205,
   "metadata": {},
   "outputs": [
    {
     "name": "stdout",
     "output_type": "stream",
     "text": [
      "(744, 1)\n"
     ]
    }
   ],
   "source": [
    "print(trainPredict.shape)\n",
    "#trainY=trainY.transpose"
   ]
  },
  {
   "cell_type": "code",
   "execution_count": 208,
   "metadata": {},
   "outputs": [
    {
     "data": {
      "text/plain": [
       "(1, 744)"
      ]
     },
     "execution_count": 208,
     "metadata": {},
     "output_type": "execute_result"
    }
   ],
   "source": [
    "trainY.shape"
   ]
  },
  {
   "cell_type": "code",
   "execution_count": 209,
   "metadata": {},
   "outputs": [],
   "source": [
    "sto=trainY.reshape(-1,1)"
   ]
  },
  {
   "cell_type": "code",
   "execution_count": 215,
   "metadata": {},
   "outputs": [
    {
     "name": "stdout",
     "output_type": "stream",
     "text": [
      "[[17.353743]\n",
      " [17.257866]\n",
      " [17.353743]\n",
      " [17.3857  ]\n",
      " [17.705294]]\n"
     ]
    }
   ],
   "source": [
    "print(sto[0:5])"
   ]
  },
  {
   "cell_type": "code",
   "execution_count": 217,
   "metadata": {},
   "outputs": [
    {
     "name": "stdout",
     "output_type": "stream",
     "text": [
      "[[19.067505]\n",
      " [19.051138]\n",
      " [19.056313]\n",
      " [19.010092]\n",
      " [18.95407 ]]\n"
     ]
    }
   ],
   "source": [
    "print(trainPredict[0:5])"
   ]
  },
  {
   "cell_type": "markdown",
   "metadata": {},
   "source": [
    "## To calculate the model loss , I have used MSE(mean squared error) function , So I have got a MSE of 1.17 which is quite decent"
   ]
  },
  {
   "cell_type": "code",
   "execution_count": 219,
   "metadata": {},
   "outputs": [
    {
     "name": "stdout",
     "output_type": "stream",
     "text": [
      "Train Score: 1.17 RMSE\n"
     ]
    }
   ],
   "source": [
    "trainScore = math.sqrt(mean_squared_error(sto[:,:], trainPredict[:,:]))\n",
    "print('Train Score: %.2f RMSE' % (trainScore))"
   ]
  },
  {
   "cell_type": "code",
   "execution_count": 227,
   "metadata": {},
   "outputs": [
    {
     "data": {
      "text/plain": [
       "array([[        nan],\n",
       "       [        nan],\n",
       "       [        nan],\n",
       "       [        nan],\n",
       "       [        nan],\n",
       "       [19.06750488],\n",
       "       [19.05113792],\n",
       "       [19.05631256],\n",
       "       [19.01009178],\n",
       "       [18.95406914],\n",
       "       [18.97103119],\n",
       "       [19.00866127],\n",
       "       [19.06738853],\n",
       "       [19.17241478],\n",
       "       [19.23798943],\n",
       "       [19.25028992],\n",
       "       [19.34689522],\n",
       "       [19.38678169],\n",
       "       [19.42702484],\n",
       "       [19.47737312]])"
      ]
     },
     "execution_count": 227,
     "metadata": {},
     "output_type": "execute_result"
    }
   ],
   "source": [
    "trainPredictPlot = np.empty_like(dataset)\n",
    "trainPredictPlot[:, :] = np.nan\n",
    "trainPredictPlot[look_back:len(trainPredict)+look_back, :] = trainPredict\n",
    "trainPredictPlot[0:20]"
   ]
  },
  {
   "cell_type": "code",
   "execution_count": 230,
   "metadata": {},
   "outputs": [
    {
     "data": {
      "text/plain": [
       "[<matplotlib.lines.Line2D at 0x295dfa3cc0>]"
      ]
     },
     "execution_count": 230,
     "metadata": {},
     "output_type": "execute_result"
    },
    {
     "data": {
      "image/png": "[encoded data removed]",
      "text/plain": [
       "<Figure size 432x288 with 1 Axes>"
      ]
     },
     "metadata": {},
     "output_type": "display_data"
    }
   ],
   "source": [
    "plt.plot(scaler.inverse_transform(dataset))"
   ]
  },
  {
   "cell_type": "code",
   "execution_count": 231,
   "metadata": {},
   "outputs": [
    {
     "data": {
      "text/plain": [
       "[<matplotlib.lines.Line2D at 0x295e0037b8>]"
      ]
     },
     "execution_count": 231,
     "metadata": {},
     "output_type": "execute_result"
    },
    {
     "data": {
      "image/png": "[encoded data removed]",
      "text/plain": [
       "<Figure size 432x288 with 1 Axes>"
      ]
     },
     "metadata": {},
     "output_type": "display_data"
    }
   ],
   "source": [
    "plt.plot(trainPredictPlot)"
   ]
  },
  {
   "cell_type": "code",
   "execution_count": 236,
   "metadata": {},
   "outputs": [],
   "source": [
    "df = pd.DataFrame(data={\"prediction\": np.around(list(testPredict.reshape(-1)), decimals=2)})"
   ]
  },
  {
   "cell_type": "code",
   "execution_count": null,
   "metadata": {},
   "outputs": [],
   "source": []
  },
  {
   "cell_type": "code",
   "execution_count": null,
   "metadata": {},
   "outputs": [],
   "source": []
  },
  {
   "cell_type": "code",
   "execution_count": null,
   "metadata": {},
   "outputs": [],
   "source": []
  },
  {
   "cell_type": "code",
   "execution_count": null,
   "metadata": {},
   "outputs": [],
   "source": []
  },
  {
   "cell_type": "code",
   "execution_count": null,
   "metadata": {},
   "outputs": [],
   "source": []
  }
 ],
 "metadata": {
  "kernelspec": {
   "display_name": "Python 3",
   "language": "python",
   "name": "python3"
  },
  "language_info": {
   "codemirror_mode": {
    "name": "ipython",
    "version": 3
   },
   "file_extension": ".py",
   "mimetype": "text/x-python",
   "name": "python",
   "nbconvert_exporter": "python",
   "pygments_lexer": "ipython3",
   "version": "3.6.5"
  }
 },
 "nbformat": 4,
 "nbformat_minor": 2
}
